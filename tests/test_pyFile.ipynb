{
 "cells": [
  {
   "cell_type": "code",
   "execution_count": 1,
   "metadata": {},
   "outputs": [],
   "source": [
    "from createc import Createc_pyFile as cpf\n",
    "import numpy as np\n",
    "%matplotlib inline\n",
    "import matplotlib.pyplot as plt"
   ]
  },
  {
   "cell_type": "code",
   "execution_count": 3,
   "metadata": {},
   "outputs": [
    {
     "data": {
      "text/plain": [
       "[<matplotlib.lines.Line2D at 0x126cf0e8dc8>]"
      ]
     },
     "execution_count": 3,
     "metadata": {},
     "output_type": "execute_result"
    },
    {
     "data": {
      "image/png": "[encoded data removed]",
      "text/plain": [
       "<Figure size 432x288 with 1 Axes>"
      ]
     },
     "metadata": {
      "needs_background": "light"
     },
     "output_type": "display_data"
    }
   ],
   "source": [
    "spec = cpf.VERT_SPEC('A201222.074849.vert')\n",
    "plt.plot(spec.spec['Z'], spec.spec['ADC1'])"
   ]
  },
  {
   "cell_type": "code",
   "execution_count": 17,
   "metadata": {},
   "outputs": [
    {
     "data": {
      "text/plain": [
       "'101'"
      ]
     },
     "execution_count": 17,
     "metadata": {},
     "output_type": "execute_result"
    }
   ],
   "source": [
    "f\"{5:b}\""
   ]
  },
  {
   "cell_type": "code",
   "execution_count": 5,
   "metadata": {},
   "outputs": [],
   "source": [
    "spec.spec.to_csv('A201222.074849.csv', index=True)"
   ]
  },
  {
   "cell_type": "code",
   "execution_count": 7,
   "metadata": {},
   "outputs": [
    {
     "data": {
      "text/plain": [
       "'ParVERT32'"
      ]
     },
     "execution_count": 7,
     "metadata": {},
     "output_type": "execute_result"
    }
   ],
   "source": [
    "spec.file_version"
   ]
  },
  {
   "cell_type": "code",
   "execution_count": 4,
   "metadata": {},
   "outputs": [
    {
     "data": {
      "text/plain": [
       "[<matplotlib.lines.Line2D at 0x126cf2d5ec8>]"
      ]
     },
     "execution_count": 4,
     "metadata": {},
     "output_type": "execute_result"
    },
    {
     "data": {
      "image/png": "[encoded data removed]",
      "text/plain": [
       "<Figure size 432x288 with 1 Axes>"
      ]
     },
     "metadata": {
      "needs_background": "light"
     },
     "output_type": "display_data"
    }
   ],
   "source": [
    "spec2 = cpf.VERT_SPEC('A190824.135614.vert')\n",
    "plt.plot(spec.spec['Z'], spec2.spec['ADC1'])"
   ]
  },
  {
   "cell_type": "code",
   "execution_count": 10,
   "metadata": {},
   "outputs": [
    {
     "data": {
      "text/plain": [
       "'ParVERT30'"
      ]
     },
     "execution_count": 10,
     "metadata": {},
     "output_type": "execute_result"
    }
   ],
   "source": [
    "spec2.file_version"
   ]
  },
  {
   "cell_type": "code",
   "execution_count": 11,
   "metadata": {},
   "outputs": [
    {
     "data": {
      "text/html": [
       "<div>\n",
       "<style scoped>\n",
       "    .dataframe tbody tr th:only-of-type {\n",
       "        vertical-align: middle;\n",
       "    }\n",
       "\n",
       "    .dataframe tbody tr th {\n",
       "        vertical-align: top;\n",
       "    }\n",
       "\n",
       "    .dataframe thead th {\n",
       "        text-align: right;\n",
       "    }\n",
       "</style>\n",
       "<table border=\"1\" class=\"dataframe\">\n",
       "  <thead>\n",
       "    <tr style=\"text-align: right;\">\n",
       "      <th></th>\n",
       "      <th>V</th>\n",
       "      <th>Z</th>\n",
       "      <th>I</th>\n",
       "      <th>ADC1</th>\n",
       "      <th>ADC2</th>\n",
       "      <th>ADC3</th>\n",
       "      <th>DAC0</th>\n",
       "    </tr>\n",
       "    <tr>\n",
       "      <th>idx</th>\n",
       "      <th></th>\n",
       "      <th></th>\n",
       "      <th></th>\n",
       "      <th></th>\n",
       "      <th></th>\n",
       "      <th></th>\n",
       "      <th></th>\n",
       "    </tr>\n",
       "  </thead>\n",
       "  <tbody>\n",
       "    <tr>\n",
       "      <th>0</th>\n",
       "      <td>190.25</td>\n",
       "      <td>-57.85</td>\n",
       "      <td>7.22315</td>\n",
       "      <td>-6113.38</td>\n",
       "      <td>89155.0</td>\n",
       "      <td>52252.0</td>\n",
       "      <td>48064.0</td>\n",
       "    </tr>\n",
       "    <tr>\n",
       "      <th>1</th>\n",
       "      <td>180.50</td>\n",
       "      <td>-115.70</td>\n",
       "      <td>6.91909</td>\n",
       "      <td>-5955.00</td>\n",
       "      <td>110841.0</td>\n",
       "      <td>51970.0</td>\n",
       "      <td>49075.0</td>\n",
       "    </tr>\n",
       "    <tr>\n",
       "      <th>2</th>\n",
       "      <td>170.75</td>\n",
       "      <td>-173.55</td>\n",
       "      <td>6.74919</td>\n",
       "      <td>-5405.28</td>\n",
       "      <td>72173.6</td>\n",
       "      <td>52679.7</td>\n",
       "      <td>50086.0</td>\n",
       "    </tr>\n",
       "    <tr>\n",
       "      <th>3</th>\n",
       "      <td>161.00</td>\n",
       "      <td>-231.40</td>\n",
       "      <td>6.96573</td>\n",
       "      <td>-4839.76</td>\n",
       "      <td>109929.0</td>\n",
       "      <td>51995.7</td>\n",
       "      <td>51097.0</td>\n",
       "    </tr>\n",
       "    <tr>\n",
       "      <th>4</th>\n",
       "      <td>151.25</td>\n",
       "      <td>-289.25</td>\n",
       "      <td>7.12529</td>\n",
       "      <td>-4687.85</td>\n",
       "      <td>94112.4</td>\n",
       "      <td>52224.4</td>\n",
       "      <td>52108.0</td>\n",
       "    </tr>\n",
       "    <tr>\n",
       "      <th>...</th>\n",
       "      <td>...</td>\n",
       "      <td>...</td>\n",
       "      <td>...</td>\n",
       "      <td>...</td>\n",
       "      <td>...</td>\n",
       "      <td>...</td>\n",
       "      <td>...</td>\n",
       "    </tr>\n",
       "    <tr>\n",
       "      <th>1019</th>\n",
       "      <td>161.00</td>\n",
       "      <td>-231.40</td>\n",
       "      <td>6.55145</td>\n",
       "      <td>-4619.94</td>\n",
       "      <td>112148.0</td>\n",
       "      <td>51961.3</td>\n",
       "      <td>51097.0</td>\n",
       "    </tr>\n",
       "    <tr>\n",
       "      <th>1020</th>\n",
       "      <td>170.75</td>\n",
       "      <td>-173.55</td>\n",
       "      <td>6.84604</td>\n",
       "      <td>-5371.17</td>\n",
       "      <td>77989.3</td>\n",
       "      <td>52590.9</td>\n",
       "      <td>50086.0</td>\n",
       "    </tr>\n",
       "    <tr>\n",
       "      <th>1021</th>\n",
       "      <td>180.50</td>\n",
       "      <td>-115.70</td>\n",
       "      <td>7.37316</td>\n",
       "      <td>-5412.18</td>\n",
       "      <td>97432.5</td>\n",
       "      <td>52137.0</td>\n",
       "      <td>49075.0</td>\n",
       "    </tr>\n",
       "    <tr>\n",
       "      <th>1022</th>\n",
       "      <td>190.25</td>\n",
       "      <td>-57.85</td>\n",
       "      <td>7.01456</td>\n",
       "      <td>-6259.00</td>\n",
       "      <td>99980.7</td>\n",
       "      <td>52174.5</td>\n",
       "      <td>48064.0</td>\n",
       "    </tr>\n",
       "    <tr>\n",
       "      <th>1023</th>\n",
       "      <td>200.00</td>\n",
       "      <td>0.00</td>\n",
       "      <td>7.71233</td>\n",
       "      <td>-6869.03</td>\n",
       "      <td>95126.2</td>\n",
       "      <td>52257.9</td>\n",
       "      <td>47054.0</td>\n",
       "    </tr>\n",
       "  </tbody>\n",
       "</table>\n",
       "<p>1024 rows × 7 columns</p>\n",
       "</div>"
      ],
      "text/plain": [
       "           V       Z        I     ADC1      ADC2     ADC3     DAC0\n",
       "idx                                                               \n",
       "0     190.25  -57.85  7.22315 -6113.38   89155.0  52252.0  48064.0\n",
       "1     180.50 -115.70  6.91909 -5955.00  110841.0  51970.0  49075.0\n",
       "2     170.75 -173.55  6.74919 -5405.28   72173.6  52679.7  50086.0\n",
       "3     161.00 -231.40  6.96573 -4839.76  109929.0  51995.7  51097.0\n",
       "4     151.25 -289.25  7.12529 -4687.85   94112.4  52224.4  52108.0\n",
       "...      ...     ...      ...      ...       ...      ...      ...\n",
       "1019  161.00 -231.40  6.55145 -4619.94  112148.0  51961.3  51097.0\n",
       "1020  170.75 -173.55  6.84604 -5371.17   77989.3  52590.9  50086.0\n",
       "1021  180.50 -115.70  7.37316 -5412.18   97432.5  52137.0  49075.0\n",
       "1022  190.25  -57.85  7.01456 -6259.00   99980.7  52174.5  48064.0\n",
       "1023  200.00    0.00  7.71233 -6869.03   95126.2  52257.9  47054.0\n",
       "\n",
       "[1024 rows x 7 columns]"
      ]
     },
     "execution_count": 11,
     "metadata": {},
     "output_type": "execute_result"
    }
   ],
   "source": [
    "# spec.spec.columns.name = spec.spec.index.name\n",
    "# spec.spec.index.name = None\n",
    "spec2.spec"
   ]
  },
  {
   "cell_type": "code",
   "execution_count": 16,
   "metadata": {},
   "outputs": [],
   "source": [
    "spec.spec.to_csv('A190824.135614.csv', index=True)"
   ]
  },
  {
   "cell_type": "code",
   "execution_count": 17,
   "metadata": {},
   "outputs": [],
   "source": [
    "import pandas as pd\n",
    "readin = pd.read_csv('A190824.135614.csv', index_col='idx')  "
   ]
  },
  {
   "cell_type": "code",
   "execution_count": 18,
   "metadata": {},
   "outputs": [
    {
     "data": {
      "text/html": [
       "<div>\n",
       "<style scoped>\n",
       "    .dataframe tbody tr th:only-of-type {\n",
       "        vertical-align: middle;\n",
       "    }\n",
       "\n",
       "    .dataframe tbody tr th {\n",
       "        vertical-align: top;\n",
       "    }\n",
       "\n",
       "    .dataframe thead th {\n",
       "        text-align: right;\n",
       "    }\n",
       "</style>\n",
       "<table border=\"1\" class=\"dataframe\">\n",
       "  <thead>\n",
       "    <tr style=\"text-align: right;\">\n",
       "      <th></th>\n",
       "      <th>V</th>\n",
       "      <th>Z</th>\n",
       "      <th>I</th>\n",
       "      <th>ADC1</th>\n",
       "      <th>ADC2</th>\n",
       "      <th>ADC3</th>\n",
       "      <th>DAC0</th>\n",
       "    </tr>\n",
       "    <tr>\n",
       "      <th>idx</th>\n",
       "      <th></th>\n",
       "      <th></th>\n",
       "      <th></th>\n",
       "      <th></th>\n",
       "      <th></th>\n",
       "      <th></th>\n",
       "      <th></th>\n",
       "    </tr>\n",
       "  </thead>\n",
       "  <tbody>\n",
       "    <tr>\n",
       "      <th>0</th>\n",
       "      <td>190.25</td>\n",
       "      <td>-57.85</td>\n",
       "      <td>7.22315</td>\n",
       "      <td>-6113.38</td>\n",
       "      <td>89155.0</td>\n",
       "      <td>52252.0</td>\n",
       "      <td>48064.0</td>\n",
       "    </tr>\n",
       "    <tr>\n",
       "      <th>1</th>\n",
       "      <td>180.50</td>\n",
       "      <td>-115.70</td>\n",
       "      <td>6.91909</td>\n",
       "      <td>-5955.00</td>\n",
       "      <td>110841.0</td>\n",
       "      <td>51970.0</td>\n",
       "      <td>49075.0</td>\n",
       "    </tr>\n",
       "    <tr>\n",
       "      <th>2</th>\n",
       "      <td>170.75</td>\n",
       "      <td>-173.55</td>\n",
       "      <td>6.74919</td>\n",
       "      <td>-5405.28</td>\n",
       "      <td>72173.6</td>\n",
       "      <td>52679.7</td>\n",
       "      <td>50086.0</td>\n",
       "    </tr>\n",
       "    <tr>\n",
       "      <th>3</th>\n",
       "      <td>161.00</td>\n",
       "      <td>-231.40</td>\n",
       "      <td>6.96573</td>\n",
       "      <td>-4839.76</td>\n",
       "      <td>109929.0</td>\n",
       "      <td>51995.7</td>\n",
       "      <td>51097.0</td>\n",
       "    </tr>\n",
       "    <tr>\n",
       "      <th>4</th>\n",
       "      <td>151.25</td>\n",
       "      <td>-289.25</td>\n",
       "      <td>7.12529</td>\n",
       "      <td>-4687.85</td>\n",
       "      <td>94112.4</td>\n",
       "      <td>52224.4</td>\n",
       "      <td>52108.0</td>\n",
       "    </tr>\n",
       "    <tr>\n",
       "      <th>...</th>\n",
       "      <td>...</td>\n",
       "      <td>...</td>\n",
       "      <td>...</td>\n",
       "      <td>...</td>\n",
       "      <td>...</td>\n",
       "      <td>...</td>\n",
       "      <td>...</td>\n",
       "    </tr>\n",
       "    <tr>\n",
       "      <th>1019</th>\n",
       "      <td>161.00</td>\n",
       "      <td>-231.40</td>\n",
       "      <td>6.55145</td>\n",
       "      <td>-4619.94</td>\n",
       "      <td>112148.0</td>\n",
       "      <td>51961.3</td>\n",
       "      <td>51097.0</td>\n",
       "    </tr>\n",
       "    <tr>\n",
       "      <th>1020</th>\n",
       "      <td>170.75</td>\n",
       "      <td>-173.55</td>\n",
       "      <td>6.84604</td>\n",
       "      <td>-5371.17</td>\n",
       "      <td>77989.3</td>\n",
       "      <td>52590.9</td>\n",
       "      <td>50086.0</td>\n",
       "    </tr>\n",
       "    <tr>\n",
       "      <th>1021</th>\n",
       "      <td>180.50</td>\n",
       "      <td>-115.70</td>\n",
       "      <td>7.37316</td>\n",
       "      <td>-5412.18</td>\n",
       "      <td>97432.5</td>\n",
       "      <td>52137.0</td>\n",
       "      <td>49075.0</td>\n",
       "    </tr>\n",
       "    <tr>\n",
       "      <th>1022</th>\n",
       "      <td>190.25</td>\n",
       "      <td>-57.85</td>\n",
       "      <td>7.01456</td>\n",
       "      <td>-6259.00</td>\n",
       "      <td>99980.7</td>\n",
       "      <td>52174.5</td>\n",
       "      <td>48064.0</td>\n",
       "    </tr>\n",
       "    <tr>\n",
       "      <th>1023</th>\n",
       "      <td>200.00</td>\n",
       "      <td>0.00</td>\n",
       "      <td>7.71233</td>\n",
       "      <td>-6869.03</td>\n",
       "      <td>95126.2</td>\n",
       "      <td>52257.9</td>\n",
       "      <td>47054.0</td>\n",
       "    </tr>\n",
       "  </tbody>\n",
       "</table>\n",
       "<p>1024 rows × 7 columns</p>\n",
       "</div>"
      ],
      "text/plain": [
       "           V       Z        I     ADC1      ADC2     ADC3     DAC0\n",
       "idx                                                               \n",
       "0     190.25  -57.85  7.22315 -6113.38   89155.0  52252.0  48064.0\n",
       "1     180.50 -115.70  6.91909 -5955.00  110841.0  51970.0  49075.0\n",
       "2     170.75 -173.55  6.74919 -5405.28   72173.6  52679.7  50086.0\n",
       "3     161.00 -231.40  6.96573 -4839.76  109929.0  51995.7  51097.0\n",
       "4     151.25 -289.25  7.12529 -4687.85   94112.4  52224.4  52108.0\n",
       "...      ...     ...      ...      ...       ...      ...      ...\n",
       "1019  161.00 -231.40  6.55145 -4619.94  112148.0  51961.3  51097.0\n",
       "1020  170.75 -173.55  6.84604 -5371.17   77989.3  52590.9  50086.0\n",
       "1021  180.50 -115.70  7.37316 -5412.18   97432.5  52137.0  49075.0\n",
       "1022  190.25  -57.85  7.01456 -6259.00   99980.7  52174.5  48064.0\n",
       "1023  200.00    0.00  7.71233 -6869.03   95126.2  52257.9  47054.0\n",
       "\n",
       "[1024 rows x 7 columns]"
      ]
     },
     "execution_count": 18,
     "metadata": {},
     "output_type": "execute_result"
    }
   ],
   "source": [
    "readin"
   ]
  },
  {
   "cell_type": "code",
   "execution_count": 19,
   "metadata": {},
   "outputs": [],
   "source": [
    "from pandas._testing import assert_frame_equal\n",
    "assert_frame_equal(readin, spec.spec)"
   ]
  },
  {
   "cell_type": "code",
   "execution_count": 8,
   "metadata": {},
   "outputs": [
    {
     "data": {
      "text/plain": [
       "<matplotlib.image.AxesImage at 0x1230591ff88>"
      ]
     },
     "execution_count": 8,
     "metadata": {},
     "output_type": "execute_result"
    },
    {
     "data": {
      "image/png": "[encoded data removed]",
      "text/plain": [
       "<Figure size 432x288 with 1 Axes>"
      ]
     },
     "metadata": {
      "needs_background": "light"
     },
     "output_type": "display_data"
    }
   ],
   "source": [
    "img = cpf.DAT_IMG(\"A200619.213320.dat\")\n",
    "plt.imshow(img.imgs[0], cmap=\"gray\")"
   ]
  },
  {
   "cell_type": "code",
   "execution_count": 9,
   "metadata": {},
   "outputs": [
    {
     "data": {
      "text/plain": [
       "'[Paramco32]\\r'"
      ]
     },
     "execution_count": 9,
     "metadata": {},
     "output_type": "execute_result"
    }
   ],
   "source": [
    "img.file_version"
   ]
  },
  {
   "cell_type": "code",
   "execution_count": 10,
   "metadata": {},
   "outputs": [
    {
     "data": {
      "text/plain": [
       "'Paramco32'"
      ]
     },
     "execution_count": 10,
     "metadata": {},
     "output_type": "execute_result"
    }
   ],
   "source": [
    "''.join(e for e in img.file_version if e.isalnum())"
   ]
  },
  {
   "cell_type": "code",
   "execution_count": null,
   "metadata": {},
   "outputs": [],
   "source": []
  }
 ],
 "metadata": {
  "kernelspec": {
   "display_name": "Python [conda env:root] *",
   "language": "python",
   "name": "conda-root-py"
  },
  "language_info": {
   "codemirror_mode": {
    "name": "ipython",
    "version": 3
   },
   "file_extension": ".py",
   "mimetype": "text/x-python",
   "name": "python",
   "nbconvert_exporter": "python",
   "pygments_lexer": "ipython3",
   "version": "3.7.6"
  }
 },
 "nbformat": 4,
 "nbformat_minor": 2
}
